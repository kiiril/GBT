{
 "cells": [
  {
   "cell_type": "code",
   "execution_count": 12,
   "id": "36088dc2-e901-41d8-8947-76af0c41e036",
   "metadata": {},
   "outputs": [],
   "source": [
    "import numpy as np\n",
    "import pandas as pd\n",
    "from decision_tree import ID3 as Tree\n",
    "from sklearn.model_selection import train_test_split"
   ]
  },
  {
   "cell_type": "code",
   "execution_count": 13,
   "id": "d075e09a-2edd-4483-bdab-3abf7d92f561",
   "metadata": {},
   "outputs": [
    {
     "data": {
      "text/html": [
       "<div>\n",
       "<style scoped>\n",
       "    .dataframe tbody tr th:only-of-type {\n",
       "        vertical-align: middle;\n",
       "    }\n",
       "\n",
       "    .dataframe tbody tr th {\n",
       "        vertical-align: top;\n",
       "    }\n",
       "\n",
       "    .dataframe thead th {\n",
       "        text-align: right;\n",
       "    }\n",
       "</style>\n",
       "<table border=\"1\" class=\"dataframe\">\n",
       "  <thead>\n",
       "    <tr style=\"text-align: right;\">\n",
       "      <th></th>\n",
       "      <th>sepallength</th>\n",
       "      <th>sepalwidth</th>\n",
       "      <th>petallength</th>\n",
       "      <th>petalwidth</th>\n",
       "      <th>class</th>\n",
       "    </tr>\n",
       "  </thead>\n",
       "  <tbody>\n",
       "    <tr>\n",
       "      <th>0</th>\n",
       "      <td>5.1</td>\n",
       "      <td>3.5</td>\n",
       "      <td>1.4</td>\n",
       "      <td>0.2</td>\n",
       "      <td>Iris-setosa</td>\n",
       "    </tr>\n",
       "    <tr>\n",
       "      <th>1</th>\n",
       "      <td>4.9</td>\n",
       "      <td>3.0</td>\n",
       "      <td>1.4</td>\n",
       "      <td>0.2</td>\n",
       "      <td>Iris-setosa</td>\n",
       "    </tr>\n",
       "    <tr>\n",
       "      <th>2</th>\n",
       "      <td>4.7</td>\n",
       "      <td>3.2</td>\n",
       "      <td>1.3</td>\n",
       "      <td>0.2</td>\n",
       "      <td>Iris-setosa</td>\n",
       "    </tr>\n",
       "    <tr>\n",
       "      <th>3</th>\n",
       "      <td>4.6</td>\n",
       "      <td>3.1</td>\n",
       "      <td>1.5</td>\n",
       "      <td>0.2</td>\n",
       "      <td>Iris-setosa</td>\n",
       "    </tr>\n",
       "    <tr>\n",
       "      <th>4</th>\n",
       "      <td>5.0</td>\n",
       "      <td>3.6</td>\n",
       "      <td>1.4</td>\n",
       "      <td>0.2</td>\n",
       "      <td>Iris-setosa</td>\n",
       "    </tr>\n",
       "    <tr>\n",
       "      <th>...</th>\n",
       "      <td>...</td>\n",
       "      <td>...</td>\n",
       "      <td>...</td>\n",
       "      <td>...</td>\n",
       "      <td>...</td>\n",
       "    </tr>\n",
       "    <tr>\n",
       "      <th>145</th>\n",
       "      <td>6.7</td>\n",
       "      <td>3.0</td>\n",
       "      <td>5.2</td>\n",
       "      <td>2.3</td>\n",
       "      <td>Iris-virginica</td>\n",
       "    </tr>\n",
       "    <tr>\n",
       "      <th>146</th>\n",
       "      <td>6.3</td>\n",
       "      <td>2.5</td>\n",
       "      <td>5.0</td>\n",
       "      <td>1.9</td>\n",
       "      <td>Iris-virginica</td>\n",
       "    </tr>\n",
       "    <tr>\n",
       "      <th>147</th>\n",
       "      <td>6.5</td>\n",
       "      <td>3.0</td>\n",
       "      <td>5.2</td>\n",
       "      <td>2.0</td>\n",
       "      <td>Iris-virginica</td>\n",
       "    </tr>\n",
       "    <tr>\n",
       "      <th>148</th>\n",
       "      <td>6.2</td>\n",
       "      <td>3.4</td>\n",
       "      <td>5.4</td>\n",
       "      <td>2.3</td>\n",
       "      <td>Iris-virginica</td>\n",
       "    </tr>\n",
       "    <tr>\n",
       "      <th>149</th>\n",
       "      <td>5.9</td>\n",
       "      <td>3.0</td>\n",
       "      <td>5.1</td>\n",
       "      <td>1.8</td>\n",
       "      <td>Iris-virginica</td>\n",
       "    </tr>\n",
       "  </tbody>\n",
       "</table>\n",
       "<p>150 rows × 5 columns</p>\n",
       "</div>"
      ],
      "text/plain": [
       "     sepallength  sepalwidth  petallength  petalwidth           class\n",
       "0            5.1         3.5          1.4         0.2     Iris-setosa\n",
       "1            4.9         3.0          1.4         0.2     Iris-setosa\n",
       "2            4.7         3.2          1.3         0.2     Iris-setosa\n",
       "3            4.6         3.1          1.5         0.2     Iris-setosa\n",
       "4            5.0         3.6          1.4         0.2     Iris-setosa\n",
       "..           ...         ...          ...         ...             ...\n",
       "145          6.7         3.0          5.2         2.3  Iris-virginica\n",
       "146          6.3         2.5          5.0         1.9  Iris-virginica\n",
       "147          6.5         3.0          5.2         2.0  Iris-virginica\n",
       "148          6.2         3.4          5.4         2.3  Iris-virginica\n",
       "149          5.9         3.0          5.1         1.8  Iris-virginica\n",
       "\n",
       "[150 rows x 5 columns]"
      ]
     },
     "execution_count": 13,
     "metadata": {},
     "output_type": "execute_result"
    }
   ],
   "source": [
    "data = pd.read_csv(\"iris.csv\").dropna()\n",
    "data"
   ]
  },
  {
   "cell_type": "code",
   "execution_count": 14,
   "id": "8be4bedb-401c-4132-bb19-d542f819aeac",
   "metadata": {},
   "outputs": [
    {
     "name": "stdout",
     "output_type": "stream",
     "text": [
      "sepallength    category\n",
      "sepalwidth     category\n",
      "petallength    category\n",
      "petalwidth     category\n",
      "class          category\n",
      "dtype: object\n",
      "Determiner Class:  class\n"
     ]
    }
   ],
   "source": [
    "categorical_feats = list(data.columns)\n",
    "for c in categorical_feats:\n",
    "    data[c] = data[c].astype('category')\n",
    "determiner = categorical_feats[-1]\n",
    "features = categorical_feats[:-1]\n",
    "print(data.dtypes)\n",
    "print(\"Determiner Class: \", determiner)"
   ]
  },
  {
   "cell_type": "code",
   "execution_count": 15,
   "id": "ad6c15a5-06f0-4b1a-9711-9b8dcd92ed93",
   "metadata": {},
   "outputs": [
    {
     "name": "stdout",
     "output_type": "stream",
     "text": [
      "(120, 120) (30, 30)\n"
     ]
    }
   ],
   "source": [
    "# Split data into features (X) and target (y)\n",
    "X = data.iloc[:, :-1].to_numpy()  # Select all rows, all columns except the last one\n",
    "y = data.iloc[:, -1].to_numpy()   # Select all rows, only the last column\n",
    "\n",
    "\n",
    "\n",
    "# Split data into train and test sets\n",
    "X_train, X_test, y_train, y_test = train_test_split(X, y, test_size=0.2)\n",
    "print((len(X_train), len(y_train)), (len(X_test), len(y_test)))\n",
    "\n",
    "# for i in range(len(features)):\n",
    "#     print(\"Feature: \", features[i], end=\"\\n\")\n",
    "#     print(\"Gain info: \", tree.info_gain(X, i, y), end=\"\\n\")"
   ]
  },
  {
   "cell_type": "code",
   "execution_count": 16,
   "metadata": {},
   "outputs": [
    {
     "data": {
      "text/plain": [
       "<decision_tree.ID3 at 0x145f24490>"
      ]
     },
     "execution_count": 16,
     "metadata": {},
     "output_type": "execute_result"
    }
   ],
   "source": [
    "tree = Tree(max_depth=3)\n",
    "tree.fit(X_train, y_train)"
   ]
  },
  {
   "cell_type": "code",
   "execution_count": 17,
   "id": "11baaa87-fff8-4561-a6f1-0c94a3b52ec4",
   "metadata": {},
   "outputs": [],
   "source": [
    "def print_tree(node, feature_names, depth=0):\n",
    "    indent = \"  \" * depth\n",
    "    if node.value is not None:\n",
    "        print(f\"{indent}Leaf: Class {node.value}\")\n",
    "    else:\n",
    "        feature_name = feature_names[node.feature_index]\n",
    "        print(f\"{indent}Feature '{feature_name}':\")\n",
    "        for param, child in node.children:\n",
    "            print(f\"{indent}  If '{feature_name}' == {param}:\")\n",
    "            print_tree(child, feature_names, depth + 2)"
   ]
  },
  {
   "cell_type": "code",
   "execution_count": 18,
   "id": "8a28e7ff-4e76-4ee3-815b-b20c1aa41aec",
   "metadata": {},
   "outputs": [
    {
     "name": "stdout",
     "output_type": "stream",
     "text": [
      "Feature 'petallength':\n",
      "  If 'petallength' == 1.0:\n",
      "    Leaf: Class Iris-setosa\n",
      "  If 'petallength' == 1.2:\n",
      "    Leaf: Class Iris-setosa\n",
      "  If 'petallength' == 1.3:\n",
      "    Leaf: Class Iris-setosa\n",
      "  If 'petallength' == 1.4:\n",
      "    Leaf: Class Iris-setosa\n",
      "  If 'petallength' == 1.5:\n",
      "    Leaf: Class Iris-setosa\n",
      "  If 'petallength' == 1.6:\n",
      "    Leaf: Class Iris-setosa\n",
      "  If 'petallength' == 1.7:\n",
      "    Leaf: Class Iris-setosa\n",
      "  If 'petallength' == 1.9:\n",
      "    Leaf: Class Iris-setosa\n",
      "  If 'petallength' == 3.0:\n",
      "    Leaf: Class Iris-versicolor\n",
      "  If 'petallength' == 3.3:\n",
      "    Leaf: Class Iris-versicolor\n",
      "  If 'petallength' == 3.5:\n",
      "    Leaf: Class Iris-versicolor\n",
      "  If 'petallength' == 3.6:\n",
      "    Leaf: Class Iris-versicolor\n",
      "  If 'petallength' == 3.8:\n",
      "    Leaf: Class Iris-versicolor\n",
      "  If 'petallength' == 3.9:\n",
      "    Leaf: Class Iris-versicolor\n",
      "  If 'petallength' == 4.0:\n",
      "    Leaf: Class Iris-versicolor\n",
      "  If 'petallength' == 4.1:\n",
      "    Leaf: Class Iris-versicolor\n",
      "  If 'petallength' == 4.2:\n",
      "    Leaf: Class Iris-versicolor\n",
      "  If 'petallength' == 4.3:\n",
      "    Leaf: Class Iris-versicolor\n",
      "  If 'petallength' == 4.4:\n",
      "    Leaf: Class Iris-versicolor\n",
      "  If 'petallength' == 4.5:\n",
      "    Feature 'sepallength':\n",
      "      If 'sepallength' == 4.9:\n",
      "        Leaf: Class Iris-virginica\n",
      "      If 'sepallength' == 5.4:\n",
      "        Leaf: Class Iris-versicolor\n",
      "      If 'sepallength' == 5.6:\n",
      "        Leaf: Class Iris-versicolor\n",
      "      If 'sepallength' == 5.7:\n",
      "        Leaf: Class Iris-versicolor\n",
      "      If 'sepallength' == 6.0:\n",
      "        Leaf: Class Iris-versicolor\n",
      "      If 'sepallength' == 6.2:\n",
      "        Leaf: Class Iris-versicolor\n",
      "      If 'sepallength' == 6.4:\n",
      "        Leaf: Class Iris-versicolor\n",
      "  If 'petallength' == 4.6:\n",
      "    Leaf: Class Iris-versicolor\n",
      "  If 'petallength' == 4.7:\n",
      "    Leaf: Class Iris-versicolor\n",
      "  If 'petallength' == 4.8:\n",
      "    Feature 'sepallength':\n",
      "      If 'sepallength' == 5.9:\n",
      "        Leaf: Class Iris-versicolor\n",
      "      If 'sepallength' == 6.0:\n",
      "        Leaf: Class Iris-virginica\n",
      "      If 'sepallength' == 6.8:\n",
      "        Leaf: Class Iris-versicolor\n",
      "  If 'petallength' == 4.9:\n",
      "    Feature 'sepalwidth':\n",
      "      If 'sepalwidth' == 2.5:\n",
      "        Leaf: Class Iris-versicolor\n",
      "      If 'sepalwidth' == 2.7:\n",
      "        Leaf: Class Iris-virginica\n",
      "      If 'sepalwidth' == 2.8:\n",
      "        Leaf: Class Iris-virginica\n",
      "      If 'sepalwidth' == 3.0:\n",
      "        Leaf: Class Iris-virginica\n",
      "      If 'sepalwidth' == 3.1:\n",
      "        Leaf: Class Iris-versicolor\n",
      "  If 'petallength' == 5.0:\n",
      "    Feature 'sepallength':\n",
      "      If 'sepallength' == 6.0:\n",
      "        Leaf: Class Iris-virginica\n",
      "      If 'sepallength' == 6.3:\n",
      "        Leaf: Class Iris-virginica\n",
      "      If 'sepallength' == 6.7:\n",
      "        Leaf: Class Iris-versicolor\n",
      "  If 'petallength' == 5.1:\n",
      "    Leaf: Class Iris-virginica\n",
      "  If 'petallength' == 5.2:\n",
      "    Leaf: Class Iris-virginica\n",
      "  If 'petallength' == 5.3:\n",
      "    Leaf: Class Iris-virginica\n",
      "  If 'petallength' == 5.4:\n",
      "    Leaf: Class Iris-virginica\n",
      "  If 'petallength' == 5.5:\n",
      "    Leaf: Class Iris-virginica\n",
      "  If 'petallength' == 5.6:\n",
      "    Leaf: Class Iris-virginica\n",
      "  If 'petallength' == 5.7:\n",
      "    Leaf: Class Iris-virginica\n",
      "  If 'petallength' == 5.8:\n",
      "    Leaf: Class Iris-virginica\n",
      "  If 'petallength' == 5.9:\n",
      "    Leaf: Class Iris-virginica\n",
      "  If 'petallength' == 6.0:\n",
      "    Leaf: Class Iris-virginica\n",
      "  If 'petallength' == 6.1:\n",
      "    Leaf: Class Iris-virginica\n",
      "  If 'petallength' == 6.3:\n",
      "    Leaf: Class Iris-virginica\n",
      "  If 'petallength' == 6.4:\n",
      "    Leaf: Class Iris-virginica\n",
      "  If 'petallength' == 6.6:\n",
      "    Leaf: Class Iris-virginica\n",
      "  If 'petallength' == 6.7:\n",
      "    Leaf: Class Iris-virginica\n",
      "  If 'petallength' == 6.9:\n",
      "    Leaf: Class Iris-virginica\n"
     ]
    }
   ],
   "source": [
    "print_tree(tree.root, features)"
   ]
  },
  {
   "cell_type": "code",
   "execution_count": 19,
   "id": "3e95dcc9-c12c-4082-8b22-b606b5799985",
   "metadata": {},
   "outputs": [],
   "source": [
    "y_pred = tree.predict(X_test)"
   ]
  },
  {
   "cell_type": "code",
   "execution_count": 20,
   "metadata": {},
   "outputs": [],
   "source": [
    "def accuracy(y_true, y_pred):\n",
    "    correct_predictions = np.sum(y_true == y_pred)\n",
    "    total_predictions = len(y_true)\n",
    "    return correct_predictions / total_predictions"
   ]
  },
  {
   "cell_type": "code",
   "execution_count": 21,
   "metadata": {},
   "outputs": [
    {
     "data": {
      "text/plain": [
       "0.8666666666666667"
      ]
     },
     "execution_count": 21,
     "metadata": {},
     "output_type": "execute_result"
    }
   ],
   "source": [
    "accuracy(y_test, y_pred)"
   ]
  },
  {
   "cell_type": "code",
   "execution_count": 22,
   "metadata": {},
   "outputs": [
    {
     "data": {
      "text/plain": [
       "['Iris-setosa',\n",
       " 'Iris-setosa',\n",
       " 'Iris-virginica',\n",
       " 'Iris-setosa',\n",
       " 'Iris-virginica',\n",
       " 'Iris-virginica',\n",
       " 'Iris-setosa',\n",
       " 'Iris-virginica',\n",
       " 'Iris-virginica',\n",
       " 'Iris-virginica',\n",
       " 'Iris-virginica',\n",
       " 'Iris-versicolor',\n",
       " 'Iris-virginica',\n",
       " 'Iris-setosa',\n",
       " 'Iris-versicolor',\n",
       " 'Iris-virginica',\n",
       " 'Iris-virginica',\n",
       " 'Iris-versicolor',\n",
       " 'Iris-setosa',\n",
       " 'Iris-setosa',\n",
       " 'Iris-virginica',\n",
       " 'Iris-versicolor',\n",
       " 'Iris-virginica',\n",
       " 'Iris-virginica',\n",
       " 'Iris-setosa',\n",
       " 'Iris-setosa',\n",
       " 'Iris-versicolor',\n",
       " 'Iris-versicolor',\n",
       " 'Iris-virginica',\n",
       " 'Iris-versicolor']"
      ]
     },
     "execution_count": 22,
     "metadata": {},
     "output_type": "execute_result"
    }
   ],
   "source": [
    "y_pred"
   ]
  },
  {
   "cell_type": "code",
   "execution_count": null,
   "metadata": {},
   "outputs": [],
   "source": []
  }
 ],
 "metadata": {
  "kernelspec": {
   "display_name": "Python 3 (ipykernel)",
   "language": "python",
   "name": "python3"
  },
  "language_info": {
   "codemirror_mode": {
    "name": "ipython",
    "version": 3
   },
   "file_extension": ".py",
   "mimetype": "text/x-python",
   "name": "python",
   "nbconvert_exporter": "python",
   "pygments_lexer": "ipython3",
   "version": "3.11.8"
  }
 },
 "nbformat": 4,
 "nbformat_minor": 5
}
