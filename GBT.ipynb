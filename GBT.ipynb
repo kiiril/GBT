{
 "cells": [
  {
   "cell_type": "code",
   "execution_count": 1,
   "id": "36088dc2-e901-41d8-8947-76af0c41e036",
   "metadata": {},
   "outputs": [],
   "source": [
    "import numpy as np\n",
    "import pandas as pd\n",
    "from collections import Counter\n",
    "from decision_tree import ID3 as Tree"
   ]
  },
  {
   "cell_type": "code",
   "execution_count": 2,
   "id": "d075e09a-2edd-4483-bdab-3abf7d92f561",
   "metadata": {},
   "outputs": [
    {
     "data": {
      "text/html": [
       "<div>\n",
       "<style scoped>\n",
       "    .dataframe tbody tr th:only-of-type {\n",
       "        vertical-align: middle;\n",
       "    }\n",
       "\n",
       "    .dataframe tbody tr th {\n",
       "        vertical-align: top;\n",
       "    }\n",
       "\n",
       "    .dataframe thead th {\n",
       "        text-align: right;\n",
       "    }\n",
       "</style>\n",
       "<table border=\"1\" class=\"dataframe\">\n",
       "  <thead>\n",
       "    <tr style=\"text-align: right;\">\n",
       "      <th></th>\n",
       "      <th>sepallength</th>\n",
       "      <th>sepalwidth</th>\n",
       "      <th>petallength</th>\n",
       "      <th>petalwidth</th>\n",
       "      <th>class</th>\n",
       "    </tr>\n",
       "  </thead>\n",
       "  <tbody>\n",
       "    <tr>\n",
       "      <th>0</th>\n",
       "      <td>5.1</td>\n",
       "      <td>3.5</td>\n",
       "      <td>1.4</td>\n",
       "      <td>0.2</td>\n",
       "      <td>Iris-setosa</td>\n",
       "    </tr>\n",
       "    <tr>\n",
       "      <th>1</th>\n",
       "      <td>4.9</td>\n",
       "      <td>3.0</td>\n",
       "      <td>1.4</td>\n",
       "      <td>0.2</td>\n",
       "      <td>Iris-setosa</td>\n",
       "    </tr>\n",
       "    <tr>\n",
       "      <th>2</th>\n",
       "      <td>4.7</td>\n",
       "      <td>3.2</td>\n",
       "      <td>1.3</td>\n",
       "      <td>0.2</td>\n",
       "      <td>Iris-setosa</td>\n",
       "    </tr>\n",
       "    <tr>\n",
       "      <th>3</th>\n",
       "      <td>4.6</td>\n",
       "      <td>3.1</td>\n",
       "      <td>1.5</td>\n",
       "      <td>0.2</td>\n",
       "      <td>Iris-setosa</td>\n",
       "    </tr>\n",
       "    <tr>\n",
       "      <th>4</th>\n",
       "      <td>5.0</td>\n",
       "      <td>3.6</td>\n",
       "      <td>1.4</td>\n",
       "      <td>0.2</td>\n",
       "      <td>Iris-setosa</td>\n",
       "    </tr>\n",
       "    <tr>\n",
       "      <th>...</th>\n",
       "      <td>...</td>\n",
       "      <td>...</td>\n",
       "      <td>...</td>\n",
       "      <td>...</td>\n",
       "      <td>...</td>\n",
       "    </tr>\n",
       "    <tr>\n",
       "      <th>145</th>\n",
       "      <td>6.7</td>\n",
       "      <td>3.0</td>\n",
       "      <td>5.2</td>\n",
       "      <td>2.3</td>\n",
       "      <td>Iris-virginica</td>\n",
       "    </tr>\n",
       "    <tr>\n",
       "      <th>146</th>\n",
       "      <td>6.3</td>\n",
       "      <td>2.5</td>\n",
       "      <td>5.0</td>\n",
       "      <td>1.9</td>\n",
       "      <td>Iris-virginica</td>\n",
       "    </tr>\n",
       "    <tr>\n",
       "      <th>147</th>\n",
       "      <td>6.5</td>\n",
       "      <td>3.0</td>\n",
       "      <td>5.2</td>\n",
       "      <td>2.0</td>\n",
       "      <td>Iris-virginica</td>\n",
       "    </tr>\n",
       "    <tr>\n",
       "      <th>148</th>\n",
       "      <td>6.2</td>\n",
       "      <td>3.4</td>\n",
       "      <td>5.4</td>\n",
       "      <td>2.3</td>\n",
       "      <td>Iris-virginica</td>\n",
       "    </tr>\n",
       "    <tr>\n",
       "      <th>149</th>\n",
       "      <td>5.9</td>\n",
       "      <td>3.0</td>\n",
       "      <td>5.1</td>\n",
       "      <td>1.8</td>\n",
       "      <td>Iris-virginica</td>\n",
       "    </tr>\n",
       "  </tbody>\n",
       "</table>\n",
       "<p>150 rows × 5 columns</p>\n",
       "</div>"
      ],
      "text/plain": [
       "     sepallength  sepalwidth  petallength  petalwidth           class\n",
       "0            5.1         3.5          1.4         0.2     Iris-setosa\n",
       "1            4.9         3.0          1.4         0.2     Iris-setosa\n",
       "2            4.7         3.2          1.3         0.2     Iris-setosa\n",
       "3            4.6         3.1          1.5         0.2     Iris-setosa\n",
       "4            5.0         3.6          1.4         0.2     Iris-setosa\n",
       "..           ...         ...          ...         ...             ...\n",
       "145          6.7         3.0          5.2         2.3  Iris-virginica\n",
       "146          6.3         2.5          5.0         1.9  Iris-virginica\n",
       "147          6.5         3.0          5.2         2.0  Iris-virginica\n",
       "148          6.2         3.4          5.4         2.3  Iris-virginica\n",
       "149          5.9         3.0          5.1         1.8  Iris-virginica\n",
       "\n",
       "[150 rows x 5 columns]"
      ]
     },
     "execution_count": 2,
     "metadata": {},
     "output_type": "execute_result"
    }
   ],
   "source": [
    "data = pd.read_csv(\"iris.csv\").dropna()\n",
    "data"
   ]
  },
  {
   "cell_type": "code",
   "execution_count": 3,
   "id": "8be4bedb-401c-4132-bb19-d542f819aeac",
   "metadata": {},
   "outputs": [
    {
     "name": "stdout",
     "output_type": "stream",
     "text": [
      "sepallength    category\n",
      "sepalwidth     category\n",
      "petallength    category\n",
      "petalwidth     category\n",
      "class          category\n",
      "dtype: object\n",
      "Determiner Class:  class\n"
     ]
    }
   ],
   "source": [
    "categorical_feats = list(data.columns)\n",
    "for c in categorical_feats:\n",
    "    data[c] = data[c].astype('category')\n",
    "determiner = categorical_feats[-1]\n",
    "features = categorical_feats[:-1]\n",
    "print(data.dtypes)\n",
    "print(\"Determiner Class: \", determiner)"
   ]
  },
  {
   "cell_type": "code",
   "execution_count": 4,
   "id": "ad6c15a5-06f0-4b1a-9711-9b8dcd92ed93",
   "metadata": {},
   "outputs": [
    {
     "name": "stdout",
     "output_type": "stream",
     "text": [
      "Feature:  sepallength\n",
      "Gain info:  0.8769376208910578\n",
      "Feature:  sepalwidth\n",
      "Gain info:  0.5108699641236061\n",
      "Feature:  petallength\n",
      "Gain info:  1.4463165236458\n",
      "Feature:  petalwidth\n",
      "Gain info:  1.4358978386754417\n"
     ]
    }
   ],
   "source": [
    "from sklearn.model_selection import train_test_split\n",
    "# Split data into features (X) and target (y)\n",
    "X = data.iloc[:, :-1].to_numpy()  # Select all rows, all columns except the last one\n",
    "y = data.iloc[:, -1].to_numpy()   # Select all rows, only the last column\n",
    "\n",
    "\n",
    "\n",
    "# Split data into train and test sets\n",
    "X_train, X_test, y_train, y_test = train_test_split(X, y, test_size=0.2, random_state=42)\n",
    "\n",
    "tree = Tree()\n",
    "tree.fit(X_train, y_train)\n",
    "\n",
    "for i in range(len(features)):\n",
    "    print(\"Feature: \", features[i], end=\"\\n\")\n",
    "    print(\"Gain info: \", tree.info_gain(X, i, y), end=\"\\n\")"
   ]
  },
  {
   "cell_type": "code",
   "execution_count": 5,
   "id": "11baaa87-fff8-4561-a6f1-0c94a3b52ec4",
   "metadata": {},
   "outputs": [],
   "source": [
    "def print_tree(node, feature_names, depth=0):\n",
    "    indent = \"  \" * depth\n",
    "    if node.value is not None:\n",
    "        print(f\"{indent}Leaf: Class {node.value}\")\n",
    "    else:\n",
    "        feature_name = feature_names[node.feature_index]\n",
    "        print(f\"{indent}Feature '{feature_name}':\")\n",
    "        for param, child in node.children:\n",
    "            print(f\"{indent}  If '{feature_name}' == {param}:\")\n",
    "            print_tree(child, feature_names, depth + 2)"
   ]
  },
  {
   "cell_type": "code",
   "execution_count": 6,
   "id": "8a28e7ff-4e76-4ee3-815b-b20c1aa41aec",
   "metadata": {},
   "outputs": [
    {
     "name": "stdout",
     "output_type": "stream",
     "text": [
      "Feature 'petallength':\n",
      "  If 'petallength' == 1.0:\n",
      "    Leaf: Class Iris-setosa\n",
      "  If 'petallength' == 1.1:\n",
      "    Leaf: Class Iris-setosa\n",
      "  If 'petallength' == 1.2:\n",
      "    Leaf: Class Iris-setosa\n",
      "  If 'petallength' == 1.3:\n",
      "    Leaf: Class Iris-setosa\n",
      "  If 'petallength' == 1.4:\n",
      "    Leaf: Class Iris-setosa\n",
      "  If 'petallength' == 1.5:\n",
      "    Leaf: Class Iris-setosa\n",
      "  If 'petallength' == 1.6:\n",
      "    Leaf: Class Iris-setosa\n",
      "  If 'petallength' == 1.7:\n",
      "    Leaf: Class Iris-setosa\n",
      "  If 'petallength' == 1.9:\n",
      "    Leaf: Class Iris-setosa\n",
      "  If 'petallength' == 3.0:\n",
      "    Leaf: Class Iris-versicolor\n",
      "  If 'petallength' == 3.3:\n",
      "    Leaf: Class Iris-versicolor\n",
      "  If 'petallength' == 3.5:\n",
      "    Leaf: Class Iris-versicolor\n",
      "  If 'petallength' == 3.7:\n",
      "    Leaf: Class Iris-versicolor\n",
      "  If 'petallength' == 3.8:\n",
      "    Leaf: Class Iris-versicolor\n",
      "  If 'petallength' == 3.9:\n",
      "    Leaf: Class Iris-versicolor\n",
      "  If 'petallength' == 4.0:\n",
      "    Leaf: Class Iris-versicolor\n",
      "  If 'petallength' == 4.1:\n",
      "    Leaf: Class Iris-versicolor\n",
      "  If 'petallength' == 4.2:\n",
      "    Leaf: Class Iris-versicolor\n",
      "  If 'petallength' == 4.3:\n",
      "    Leaf: Class Iris-versicolor\n",
      "  If 'petallength' == 4.4:\n",
      "    Leaf: Class Iris-versicolor\n",
      "  If 'petallength' == 4.5:\n",
      "    Feature 'sepallength':\n",
      "      If 'sepallength' == 4.9:\n",
      "        Leaf: Class Iris-virginica\n",
      "      If 'sepallength' == 5.4:\n",
      "        Leaf: Class Iris-versicolor\n",
      "      If 'sepallength' == 5.6:\n",
      "        Leaf: Class Iris-versicolor\n",
      "      If 'sepallength' == 6.0:\n",
      "        Leaf: Class Iris-versicolor\n",
      "      If 'sepallength' == 6.4:\n",
      "        Leaf: Class Iris-versicolor\n",
      "  If 'petallength' == 4.6:\n",
      "    Leaf: Class Iris-versicolor\n",
      "  If 'petallength' == 4.7:\n",
      "    Leaf: Class Iris-versicolor\n",
      "  If 'petallength' == 4.8:\n",
      "    Feature 'sepallength':\n",
      "      If 'sepallength' == 5.9:\n",
      "        Leaf: Class Iris-versicolor\n",
      "      If 'sepallength' == 6.0:\n",
      "        Leaf: Class Iris-virginica\n",
      "      If 'sepallength' == 6.2:\n",
      "        Leaf: Class Iris-virginica\n",
      "  If 'petallength' == 4.9:\n",
      "    Feature 'sepalwidth':\n",
      "      If 'sepalwidth' == 2.5:\n",
      "        Leaf: Class Iris-versicolor\n",
      "      If 'sepalwidth' == 2.7:\n",
      "        Leaf: Class Iris-virginica\n",
      "      If 'sepalwidth' == 2.8:\n",
      "        Leaf: Class Iris-virginica\n",
      "      If 'sepalwidth' == 3.1:\n",
      "        Leaf: Class Iris-versicolor\n",
      "  If 'petallength' == 5.0:\n",
      "    Feature 'sepallength':\n",
      "      If 'sepallength' == 5.7:\n",
      "        Leaf: Class Iris-virginica\n",
      "      If 'sepallength' == 6.0:\n",
      "        Leaf: Class Iris-virginica\n",
      "      If 'sepallength' == 6.3:\n",
      "        Leaf: Class Iris-virginica\n",
      "      If 'sepallength' == 6.7:\n",
      "        Leaf: Class Iris-versicolor\n",
      "  If 'petallength' == 5.1:\n",
      "    Feature 'sepallength':\n",
      "      If 'sepallength' == 5.8:\n",
      "        Leaf: Class Iris-virginica\n",
      "      If 'sepallength' == 5.9:\n",
      "        Leaf: Class Iris-virginica\n",
      "      If 'sepallength' == 6.0:\n",
      "        Leaf: Class Iris-versicolor\n",
      "      If 'sepallength' == 6.3:\n",
      "        Leaf: Class Iris-virginica\n",
      "  If 'petallength' == 5.2:\n",
      "    Leaf: Class Iris-virginica\n",
      "  If 'petallength' == 5.3:\n",
      "    Leaf: Class Iris-virginica\n",
      "  If 'petallength' == 5.4:\n",
      "    Leaf: Class Iris-virginica\n",
      "  If 'petallength' == 5.5:\n",
      "    Leaf: Class Iris-virginica\n",
      "  If 'petallength' == 5.6:\n",
      "    Leaf: Class Iris-virginica\n",
      "  If 'petallength' == 5.7:\n",
      "    Leaf: Class Iris-virginica\n",
      "  If 'petallength' == 5.8:\n",
      "    Leaf: Class Iris-virginica\n",
      "  If 'petallength' == 5.9:\n",
      "    Leaf: Class Iris-virginica\n",
      "  If 'petallength' == 6.0:\n",
      "    Leaf: Class Iris-virginica\n",
      "  If 'petallength' == 6.1:\n",
      "    Leaf: Class Iris-virginica\n",
      "  If 'petallength' == 6.3:\n",
      "    Leaf: Class Iris-virginica\n",
      "  If 'petallength' == 6.6:\n",
      "    Leaf: Class Iris-virginica\n",
      "  If 'petallength' == 6.7:\n",
      "    Leaf: Class Iris-virginica\n"
     ]
    }
   ],
   "source": [
    "print_tree(tree.root, features)"
   ]
  },
  {
   "cell_type": "code",
   "execution_count": 7,
   "id": "3e95dcc9-c12c-4082-8b22-b606b5799985",
   "metadata": {},
   "outputs": [],
   "source": [
    "y_pred = tree.predict(X_test)"
   ]
  },
  {
   "cell_type": "code",
   "execution_count": 8,
   "metadata": {},
   "outputs": [],
   "source": [
    "def accuracy(y_true, y_pred):\n",
    "    correct_predictions = np.sum(y_true == y_pred)\n",
    "    total_predictions = len(y_true)\n",
    "    return correct_predictions / total_predictions"
   ]
  },
  {
   "cell_type": "code",
   "execution_count": 9,
   "metadata": {},
   "outputs": [
    {
     "data": {
      "text/plain": [
       "0.9333333333333333"
      ]
     },
     "execution_count": 9,
     "metadata": {},
     "output_type": "execute_result"
    }
   ],
   "source": [
    "accuracy(y_test, y_pred)"
   ]
  },
  {
   "cell_type": "code",
   "execution_count": 10,
   "metadata": {},
   "outputs": [
    {
     "data": {
      "text/plain": [
       "<decision_tree.ID3 at 0x155d19b90>"
      ]
     },
     "execution_count": 10,
     "metadata": {},
     "output_type": "execute_result"
    }
   ],
   "source": [
    "data = pd.read_csv(\"BostonHousing.csv\").dropna()\n",
    "data['indus'] = pd.to_numeric(data['indus'], errors='coerce')\n",
    "# Split data into features (X) and target (y)\n",
    "X = data.iloc[:, :-1].to_numpy()  # Select all rows, all columns except the last one\n",
    "y = data.iloc[:, -1].to_numpy()   # Select all rows, only the last column\n",
    "\n",
    "\n",
    "# Split data into train and test sets\n",
    "X_train, X_test, y_train, y_test = train_test_split(X, y, test_size=0.2, random_state=42)\n",
    "\n",
    "tree = Tree(mode=\"reg\")\n",
    "tree.fit(X_train, y_train)"
   ]
  },
  {
   "cell_type": "code",
   "execution_count": 11,
   "metadata": {},
   "outputs": [],
   "source": [
    "y_pred = tree.predict(X_test)"
   ]
  },
  {
   "cell_type": "code",
   "execution_count": 13,
   "metadata": {},
   "outputs": [],
   "source": [
    "def mean_absolute_error(y_true, y_pred):\n",
    "    return np.mean(np.abs(y_true - y_pred))\n",
    "\n",
    "def mean_squared_error(y_true, y_pred):\n",
    "    return np.mean((y_true - y_pred) ** 2)\n",
    "\n",
    "def root_mean_squared_error(y_true, y_pred):\n",
    "    return np.sqrt(mean_squared_error(y_true, y_pred))\n",
    "\n",
    "def r_squared(y_true, y_pred):\n",
    "    ss_res = np.sum((y_true - y_pred) ** 2)\n",
    "    ss_tot = np.sum((y_true - np.mean(y_true)) ** 2)\n",
    "    return 1 - (ss_res / ss_tot)\n",
    "\n",
    "def evaluate_regression(y_true, y_pred):\n",
    "    return {\n",
    "        'MAE': mean_absolute_error(y_true, y_pred),\n",
    "        'MSE': mean_squared_error(y_true, y_pred),\n",
    "        'RMSE': root_mean_squared_error(y_true, y_pred),\n",
    "        'R-squared': r_squared(y_true, y_pred)\n",
    "    }"
   ]
  },
  {
   "cell_type": "code",
   "execution_count": 14,
   "metadata": {},
   "outputs": [
    {
     "data": {
      "text/plain": [
       "{'MAE': 6.221707638279194,\n",
       " 'MSE': 74.55434651260816,\n",
       " 'RMSE': 8.63448588583062,\n",
       " 'R-squared': -0.016643943618956714}"
      ]
     },
     "execution_count": 14,
     "metadata": {},
     "output_type": "execute_result"
    }
   ],
   "source": [
    "evaluate_regression(y_test, y_pred)"
   ]
  },
  {
   "cell_type": "code",
   "execution_count": 40,
   "metadata": {},
   "outputs": [],
   "source": [
    "class GradientBoosting:\n",
    "    def __init__(self, n_estimators, learning_rate, n_classes):\n",
    "        self.n_estimators = n_estimators\n",
    "        self.learning_rate = learning_rate\n",
    "        self.n_classes = n_classes\n",
    "\n",
    "        self.trees = [[Tree() for _ in range(n_classes)] for _ in range(n_estimators)]\n",
    "\n",
    "    def fit(self, X, y):\n",
    "        n_samples, n_features = X.shape\n",
    "        \n",
    "        # Initialize predictions with zeros\n",
    "        F = np.zeros((n_samples, self.n_classes))\n",
    "        \n",
    "        for m in range(self.n_estimators):\n",
    "            # Compute gradients\n",
    "            p = self.softmax(F)\n",
    "            for k in range(self.n_classes):\n",
    "                grad = p[:, k] - (y == k).astype(int)\n",
    "                \n",
    "                # Fit a regression tree to negative gradients\n",
    "                self.trees[m][k].fit(X, -grad)\n",
    "                \n",
    "                # Update F with predictions\n",
    "                F[:, k] += self.learning_rate * self.trees[m][k].predict(X)\n",
    "        \n",
    "        return self\n",
    "\n",
    "    def predict_proba(self, X):\n",
    "        n_samples = X.shape[0]\n",
    "        F = np.zeros((n_samples, self.n_classes))\n",
    "        \n",
    "        for m in range(self.n_estimators):\n",
    "            for k in range(self.n_classes):\n",
    "                F[:, k] += self.learning_rate * self.trees[m][k].predict(X)\n",
    "        \n",
    "        return self.softmax(F)\n",
    "\n",
    "    def predict(self, X):\n",
    "        probas = self.predict_proba(X)\n",
    "        return np.argmax(probas, axis=1)\n",
    "\n",
    "    def softmax(self, x):\n",
    "        \"\"\"\n",
    "        Compute softmax values for each set of scores in x.\n",
    "        \n",
    "        Parameters:\n",
    "        x (array-like): Input array of shape (n_samples, n_features)\n",
    "        \n",
    "        Returns:\n",
    "        array-like: Softmax values of shape (n_samples, n_features)\n",
    "        \"\"\"\n",
    "        e_x = np.exp(x - np.max(x, axis=1, keepdims=True))\n",
    "        return e_x / np.sum(e_x, axis=1, keepdims=True)\n",
    "\n",
    "\n",
    "    def cross_entropy_loss(y_true, y_pred):\n",
    "        \"\"\"\n",
    "        Compute the cross-entropy loss for multiclass classification.\n",
    "        \n",
    "        Parameters:\n",
    "        y_true (array-like): True labels (1D array of class indices)\n",
    "        y_pred (array-like): Predicted probabilities (2D array, shape (n_samples, n_classes))\n",
    "        \n",
    "        Returns:\n",
    "        float: The average cross-entropy loss\n",
    "        \"\"\"\n",
    "        n_samples = len(y_true)\n",
    "        \n",
    "        # Clip predicted probabilities to avoid log(0)\n",
    "        eps = 1e-15\n",
    "        y_pred = np.clip(y_pred, eps, 1 - eps)\n",
    "        \n",
    "        # Convert y_true to one-hot encoding\n",
    "        y_true_one_hot = np.zeros_like(y_pred)\n",
    "        y_true_one_hot[np.arange(n_samples), y_true] = 1\n",
    "        \n",
    "        # Compute cross-entropy loss\n",
    "        loss = -np.sum(y_true_one_hot * np.log(y_pred)) / n_samples\n",
    "        \n",
    "        return loss"
   ]
  },
  {
   "cell_type": "code",
   "execution_count": 43,
   "metadata": {},
   "outputs": [],
   "source": [
    "gbt = GradientBoosting(100, 0.5, 2)\n",
    "gbt.fit(X_train, y_train)\n",
    "# Get probability predictions\n",
    "y_pred_proba = gbt.predict_proba(X_test)\n",
    "\n",
    "# Get class predictions\n",
    "y_pred = gbt.predict(X_test)\n"
   ]
  },
  {
   "cell_type": "code",
   "execution_count": 44,
   "metadata": {},
   "outputs": [
    {
     "data": {
      "text/plain": [
       "array([0, 0, 0])"
      ]
     },
     "execution_count": 44,
     "metadata": {},
     "output_type": "execute_result"
    }
   ],
   "source": [
    "y_pred"
   ]
  },
  {
   "cell_type": "code",
   "execution_count": 16,
   "id": "0a537bcb-d05a-466b-875b-19764282d0b5",
   "metadata": {},
   "outputs": [],
   "source": [
    "import pydot\n",
    "from IPython.display import Image, display"
   ]
  },
  {
   "cell_type": "code",
   "execution_count": 17,
   "id": "396aa2ab-141a-48aa-ad5f-b2281981c481",
   "metadata": {},
   "outputs": [
    {
     "ename": "NameError",
     "evalue": "name 'dtree' is not defined",
     "output_type": "error",
     "traceback": [
      "\u001b[0;31m---------------------------------------------------------------------------\u001b[0m",
      "\u001b[0;31mNameError\u001b[0m                                 Traceback (most recent call last)",
      "\u001b[1;32m/Users/kirillbuloychik/Documents/GBT/GBT.ipynb Cell 10\u001b[0m line \u001b[0;36m1\n\u001b[1;32m     <a href='vscode-notebook-cell:/Users/kirillbuloychik/Documents/GBT/GBT.ipynb#X12sZmlsZQ%3D%3D?line=12'>13</a>\u001b[0m             draw(k, k\u001b[39m+\u001b[39m\u001b[39m\"\u001b[39m\u001b[39m_\u001b[39m\u001b[39m\"\u001b[39m\u001b[39m+\u001b[39mv)\n\u001b[1;32m     <a href='vscode-notebook-cell:/Users/kirillbuloychik/Documents/GBT/GBT.ipynb#X12sZmlsZQ%3D%3D?line=14'>15</a>\u001b[0m graph \u001b[39m=\u001b[39m pydot\u001b[39m.\u001b[39mDot(graph_type\u001b[39m=\u001b[39m\u001b[39m'\u001b[39m\u001b[39mgraph\u001b[39m\u001b[39m'\u001b[39m)\n\u001b[0;32m---> <a href='vscode-notebook-cell:/Users/kirillbuloychik/Documents/GBT/GBT.ipynb#X12sZmlsZQ%3D%3D?line=15'>16</a>\u001b[0m visit(dtree)\n\u001b[1;32m     <a href='vscode-notebook-cell:/Users/kirillbuloychik/Documents/GBT/GBT.ipynb#X12sZmlsZQ%3D%3D?line=16'>17</a>\u001b[0m tree_plot \u001b[39m=\u001b[39m Image(graph\u001b[39m.\u001b[39mcreate_png())\n\u001b[1;32m     <a href='vscode-notebook-cell:/Users/kirillbuloychik/Documents/GBT/GBT.ipynb#X12sZmlsZQ%3D%3D?line=17'>18</a>\u001b[0m display(tree_plot)\n",
      "\u001b[0;31mNameError\u001b[0m: name 'dtree' is not defined"
     ]
    }
   ],
   "source": [
    "def draw(parent_name, child_name):\n",
    "    edge = pydot.Edge(parent_name, child_name)\n",
    "    graph.add_edge(edge)\n",
    "\n",
    "def visit(node, parent=None):\n",
    "    for k,v in node.items():\n",
    "        if isinstance(v, dict):\n",
    "            if parent:\n",
    "                draw(parent, k)\n",
    "            visit(v, k)\n",
    "        else:\n",
    "            draw(parent, k)\n",
    "            draw(k, k+\"_\"+v)\n",
    "\n",
    "graph = pydot.Dot(graph_type='graph')\n",
    "visit(dtree)\n",
    "tree_plot = Image(graph.create_png())\n",
    "display(tree_plot)"
   ]
  },
  {
   "cell_type": "code",
   "execution_count": null,
   "id": "e766d7f6-c18c-4299-ac4d-b52e10622758",
   "metadata": {},
   "outputs": [],
   "source": []
  },
  {
   "cell_type": "code",
   "execution_count": null,
   "id": "52798838-8406-4a79-a867-5dc61db5c09e",
   "metadata": {},
   "outputs": [],
   "source": []
  }
 ],
 "metadata": {
  "kernelspec": {
   "display_name": "Python 3 (ipykernel)",
   "language": "python",
   "name": "python3"
  },
  "language_info": {
   "codemirror_mode": {
    "name": "ipython",
    "version": 3
   },
   "file_extension": ".py",
   "mimetype": "text/x-python",
   "name": "python",
   "nbconvert_exporter": "python",
   "pygments_lexer": "ipython3",
   "version": "3.11.8"
  }
 },
 "nbformat": 4,
 "nbformat_minor": 5
}
