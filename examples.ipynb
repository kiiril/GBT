{
 "cells": [
  {
   "cell_type": "code",
   "execution_count": 23,
   "id": "36088dc2-e901-41d8-8947-76af0c41e036",
   "metadata": {},
   "outputs": [],
   "source": [
    "import numpy as np\n",
    "from decision_tree import ID3 as Tree\n",
    "from sklearn.model_selection import train_test_split\n",
    "from sklearn import datasets\n",
    "from sklearn.model_selection import KFold"
   ]
  },
  {
   "cell_type": "code",
   "execution_count": 24,
   "id": "d075e09a-2edd-4483-bdab-3abf7d92f561",
   "metadata": {},
   "outputs": [],
   "source": [
    "def accuracy(y_test, y_pred):\n",
    "    return np.sum(y_test == y_pred) / len(y_test)"
   ]
  },
  {
   "cell_type": "code",
   "execution_count": 25,
   "metadata": {},
   "outputs": [],
   "source": [
    "def k_fold_cross_validation(X, y, k=5):\n",
    "    kf = KFold(n_splits=k, shuffle=True, random_state=42)\n",
    "    accuracies = []\n",
    "\n",
    "    for fold, (train_index, test_index) in enumerate(kf.split(X), 1):\n",
    "        X_train, X_test = X[train_index], X[test_index]\n",
    "        y_train, y_test = y[train_index], y[test_index]\n",
    "\n",
    "        tree = Tree(max_depth=10, min_samples_split=5)\n",
    "        tree.fit(X_train, y_train)\n",
    "        y_pred = tree.predict(X_test)\n",
    "\n",
    "        acc = accuracy(y_test, y_pred)\n",
    "        accuracies.append(acc)\n",
    "        print(f\"Fold {fold} Accuracy: {acc:.4f}\")\n",
    "\n",
    "    mean_accuracy = np.mean(accuracies)\n",
    "    std_accuracy = np.std(accuracies)\n",
    "    print(f\"\\nMean Accuracy: {mean_accuracy:.4f}\")\n",
    "    print(f\"Standard Deviation: {std_accuracy:.4f}\")\n",
    "\n",
    "    return mean_accuracy, std_accuracy"
   ]
  },
  {
   "cell_type": "code",
   "execution_count": 26,
   "metadata": {},
   "outputs": [
    {
     "name": "stdout",
     "output_type": "stream",
     "text": [
      "Fold 1 Accuracy: 1.0000\n",
      "Fold 2 Accuracy: 1.0000\n",
      "Fold 3 Accuracy: 1.0000\n",
      "Fold 4 Accuracy: 0.9333\n",
      "Fold 5 Accuracy: 0.9333\n",
      "Fold 6 Accuracy: 0.8667\n",
      "Fold 7 Accuracy: 0.8667\n",
      "Fold 8 Accuracy: 0.9333\n",
      "Fold 9 Accuracy: 0.8667\n",
      "Fold 10 Accuracy: 0.9333\n",
      "\n",
      "Mean Accuracy: 0.9333\n",
      "Standard Deviation: 0.0516\n"
     ]
    }
   ],
   "source": [
    "data = datasets.load_iris()\n",
    "\n",
    "X, y = data.data, data.target\n",
    "mean_acc, std_acc = k_fold_cross_validation(X, y, k=10)"
   ]
  },
  {
   "cell_type": "code",
   "execution_count": 27,
   "metadata": {},
   "outputs": [
    {
     "name": "stdout",
     "output_type": "stream",
     "text": [
      "Fold 1 Accuracy: 0.9298\n",
      "Fold 2 Accuracy: 0.9474\n",
      "Fold 3 Accuracy: 0.9474\n",
      "Fold 4 Accuracy: 0.9649\n",
      "Fold 5 Accuracy: 0.9474\n",
      "Fold 6 Accuracy: 0.9123\n",
      "Fold 7 Accuracy: 0.9649\n",
      "Fold 8 Accuracy: 0.9474\n",
      "Fold 9 Accuracy: 0.9649\n",
      "Fold 10 Accuracy: 0.9464\n",
      "\n",
      "Mean Accuracy: 0.9473\n",
      "Standard Deviation: 0.0157\n"
     ]
    }
   ],
   "source": [
    "data = datasets.load_breast_cancer()\n",
    "\n",
    "X, y = data.data, data.target\n",
    "mean_acc, std_acc = k_fold_cross_validation(X, y, k=10)"
   ]
  }
 ],
 "metadata": {
  "kernelspec": {
   "display_name": "Python 3 (ipykernel)",
   "language": "python",
   "name": "python3"
  },
  "language_info": {
   "codemirror_mode": {
    "name": "ipython",
    "version": 3
   },
   "file_extension": ".py",
   "mimetype": "text/x-python",
   "name": "python",
   "nbconvert_exporter": "python",
   "pygments_lexer": "ipython3",
   "version": "3.11.8"
  }
 },
 "nbformat": 4,
 "nbformat_minor": 5
}
